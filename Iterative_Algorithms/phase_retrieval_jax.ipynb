{
 "cells": [
  {
   "cell_type": "code",
   "execution_count": 1,
   "metadata": {},
   "outputs": [],
   "source": [
    "%load_ext autoreload\n",
    "%autoreload 2"
   ]
  },
  {
   "cell_type": "code",
   "execution_count": 4,
   "metadata": {},
   "outputs": [],
   "source": [
    "%reload_ext autoreload\n",
    "import numpy as np\n",
    "import matplotlib.pyplot as plt\n",
    "from functools import partial\n",
    "from multiprocessing import Pool\n",
    "\n",
    "from phase_retrieval_jax import run_diffmap_algo, run_altproj_algo\n",
    "from image_generator import gen_image\n",
    "from register_to_reference import register_to_reference"
   ]
  },
  {
   "cell_type": "code",
   "execution_count": null,
   "metadata": {},
   "outputs": [],
   "source": [
    "def process_images(image, ref_image, support, dft_mag):\n",
    "\n",
    "    projB = proj_supp(image, support)\n",
    "    final_image = proj_A(2 * projB - image, dft_mag_img)\n",
    "    final_image = register_to_reference(final_image, ref_image)\n",
    "    \n",
    "    return final_image\n",
    "\n",
    "def process_results(results, initial_images, ref_image, support, dft_mag):\n",
    "\n",
    "    images = np.array([results[i][0] for i in range(n_trials)])\n",
    "    recons = np.array([results[i][1] for i in range(n_trials)])\n",
    "    residues = np.array([results[i][2] for i in range(n_trials)])\n",
    "    \n",
    "    with Pool(32) as pool:\n",
    "        aligned_images = pool.map(\n",
    "            partial(process_images, ref_image=ref_image, support=support, dft_mag=dft_mag),\n",
    "            images\n",
    "        )\n",
    "        aligned_initial = pool.map(partial(register_to_reference, image_ref=ref_image), initial_images)\n",
    "        aligned_recon = pool.map(partial(register_to_reference, image_ref=ref_image), recons)\n",
    "        \n",
    "    return np.array(aligned_initial), np.array(aligned_images), np.array(aligned_recon), residues\n",
    "\n",
    "def save_results(filename, images, recons, real_image, initial_images, residues):\n",
    "    \n",
    "    np.savez(\n",
    "        filename,\n",
    "        images=images,\n",
    "        recons=recons,\n",
    "        initial_images=initial_images,\n",
    "        residues=residues,\n",
    "        real_image=real_image\n",
    "    )\n",
    "    \n",
    "    return"
   ]
  },
  {
   "cell_type": "code",
   "execution_count": 29,
   "metadata": {},
   "outputs": [],
   "source": [
    "n_pixels = 32\n",
    "n_trials = 2000\n",
    "n_disks = 50\n",
    "\n",
    "n_pad = 3\n",
    "k = 2\n",
    "supp_neigh = 4\n",
    "\n",
    "real_image, support = gen_image(\n",
    "    n_pixels=n_pixels, n_pad=n_pad, k=k, n_disks=n_disks, seed=0, supp_neigh=supp_neigh\n",
    ")\n",
    "\n",
    "real_image /= np.linalg.norm(real_image)\n",
    "\n",
    "dft_mag_img = np.abs(np.fft.fftn(real_image))"
   ]
  },
  {
   "cell_type": "code",
   "execution_count": null,
   "metadata": {},
   "outputs": [],
   "source": [
    "init_images = np.fft.ifft2(\n",
    "    dft_mag_img[None, :, :]\n",
    "    * np.exp(2j * np.pi * np.random.rand(n_trials, n_pixels * n_pad, n_pixels * n_pad))\n",
    ").real"
   ]
  },
  {
   "cell_type": "code",
   "execution_count": 27,
   "metadata": {},
   "outputs": [],
   "source": [
    "with Pool() as pool:\n",
    "    results = pool.map(\n",
    "        partial(\n",
    "            run_diffmap_algo, n_iter=2000, exp_data=dft_mag_img,\n",
    "            ref_image=real_image, aux=\"nonneg\", support_mask=support),\n",
    "        init_images\n",
    "    )"
   ]
  },
  {
   "cell_type": "code",
   "execution_count": null,
   "metadata": {},
   "outputs": [],
   "source": [
    "initial_images, final_images, final_recons, residues = process_results(\n",
    "    results,\n",
    "    init_images,\n",
    "    real_image,\n",
    "    support,\n",
    "    dft_mag_img\n",
    ")"
   ]
  },
  {
   "cell_type": "code",
   "execution_count": null,
   "metadata": {},
   "outputs": [],
   "source": [
    "save_results(\n",
    "    f\"results_k{k}_nonneg_p3.npz\",\n",
    "    images=final_images,\n",
    "    recons=final_recons,\n",
    "    real_image=real_image,\n",
    "    initial_images=initial_images,\n",
    "    residues=residues\n",
    ")"
   ]
  }
 ],
 "metadata": {
  "kernelspec": {
   "display_name": "phase_ret_env",
   "language": "python",
   "name": "python3"
  },
  "language_info": {
   "codemirror_mode": {
    "name": "ipython",
    "version": 3
   },
   "file_extension": ".py",
   "mimetype": "text/x-python",
   "name": "python",
   "nbconvert_exporter": "python",
   "pygments_lexer": "ipython3",
   "version": "3.11.0"
  },
  "orig_nbformat": 4
 },
 "nbformat": 4,
 "nbformat_minor": 2
}
